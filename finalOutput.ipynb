{
  "nbformat": 4,
  "nbformat_minor": 0,
  "metadata": {
    "colab": {
      "name": "dvo473.ipynb",
      "provenance": [],
      "authorship_tag": "ABX9TyN1Bl+Enfc4vdZRKYZ03ot0",
      "include_colab_link": true
    },
    "kernelspec": {
      "name": "python3",
      "display_name": "Python 3"
    }
  },
  "cells": [
    {
      "cell_type": "markdown",
      "metadata": {
        "id": "view-in-github",
        "colab_type": "text"
      },
      "source": [
        "<a href=\"https://colab.research.google.com/github/michaelchapa/dataMining_data_normalization/blob/master/finalOutput.ipynb\" target=\"_parent\"><img src=\"https://colab.research.google.com/assets/colab-badge.svg\" alt=\"Open In Colab\"/></a>"
      ]
    },
    {
      "cell_type": "markdown",
      "metadata": {
        "id": "W3EdN5jFrNH1",
        "colab_type": "text"
      },
      "source": [
        "<h4>Develop a program for the pre-processing data.</h4>\n",
        "<ol>\n",
        "  <li>Read data from the provided CSV file into a DataFrame</li>\n",
        "  <li>Data-file has 6 columns: A, B, C, D, E, F</li>\n",
        "  <li>A & B are categorical and the rest are numeric</li>\n",
        "</ol>\n"
      ]
    },
    {
      "cell_type": "code",
      "metadata": {
        "id": "gJRnCdZorVMa",
        "colab_type": "code",
        "colab": {}
      },
      "source": [
        "import pandas as pd\n",
        "import numpy as np\n",
        "from scipy.spatial import distance\n",
        "from sklearn import preprocessing\n",
        "import matplotlib.pyplot as plt\n",
        "\n",
        "data = pd.read_csv('https://raw.githubusercontent.com/michaelchapa/' \\\n",
        "                   'dataMining_data_normalization/master/hwk01.csv')"
      ],
      "execution_count": null,
      "outputs": []
    },
    {
      "cell_type": "markdown",
      "metadata": {
        "id": "_TcNAkqSrrd_",
        "colab_type": "text"
      },
      "source": [
        "<h2>Data Statistics</h2>\n",
        "<h3>Write functions to calculate columns C, D, E, F</h3>\n",
        "<ol>\n",
        "  <li>Mean & Midrange</li>\n",
        "  <li>Mode & Modality (i.e., bimodal, trimodal, etc.)</li>\n",
        "  <li>Five-number summary</li>\n",
        "  <li>Compare to the corresponding functions provided by DataFrame</li>\n",
        "</ol>"
      ]
    },
    {
      "cell_type": "code",
      "metadata": {
        "id": "mGF0QhQ1rthX",
        "colab_type": "code",
        "colab": {}
      },
      "source": [
        "def getMean(data):\n",
        "    rows, _ = data.shape\n",
        "    data = data[data.columns[3:]].sum(axis = 0)\n",
        "    data = data / rows\n",
        "    \n",
        "    print(data)\n",
        "\n",
        "\n",
        "def getMidRange(data):\n",
        "    rows, _ = data.shape\n",
        "    midranges = []\n",
        "    attributes = list(data.columns[3:])\n",
        "    \n",
        "    for attribute in attributes:\n",
        "        data.sort_values(by = attribute, inplace = True)\n",
        "        midranges.append(data.loc[(rows // 2), attribute])\n",
        "    \n",
        "    print(midranges)\n",
        "\n",
        "    \n",
        "def getMode(data):\n",
        "    for attribute in ['C', 'D', 'E', 'F']:\n",
        "        print(data[attribute].value_counts(), '\\n')\n",
        "        \n",
        "    # print(\"Attribute C is Bimodal\")\n",
        "    # print(\"Attributes D and E have no Mode\")\n",
        "    # print(\"Attribute F is Unimodal\")\n",
        "        \n",
        "\n",
        "# For each column get Minimum, Maximum, Standard Deviation, Mean and Median\n",
        "def getFiveSummary(data):\n",
        "    data = data[data.columns[3:]]\n",
        "    \n",
        "    print('Minimum:')\n",
        "    print(data.apply(np.min, axis = 0, raw = True), end='\\n\\n')\n",
        "    print('Maximum:')\n",
        "    print(data.apply(np.max, axis = 0, raw = True), end='\\n\\n')\n",
        "    print('Standard Deviation:')\n",
        "    print(data.apply(np.std, axis = 0, raw = True), end='\\n\\n')\n",
        "    print('Mean:')\n",
        "    print(data.apply(np.mean, axis = 0, raw = True), end='\\n\\n')\n",
        "    print('Median:')\n",
        "    print(data.apply(np.median, axis = 0, raw = True), end='\\n\\n')\n",
        "    \n",
        "def getCentralTendencySummary(data):\n",
        "    numericAttributes = data[data.columns[3:]]\n",
        "    \n",
        "    print(\"Mode:\\n\", numericAttributes.mode(), \"\\n\")\n",
        "    print(\"Minimum:\\n\", numericAttributes.min(), \"\\n\")\n",
        "    print(\"Maximum:\\n\", numericAttributes.max(), \"\\n\")\n",
        "    print(\"Standard Deviation:\\n\", numericAttributes.std(), \"\\n\")\n",
        "    print(\"Mean:\\n\", numericAttributes.mean(), \"\\n\")\n",
        "    print(\"Median:\\n\", numericAttributes.median(), \"\\n\")\n",
        "    \n",
        "    print(\"DataFrame.describe() output:\\n\",numericAttributes.describe(), \"\\n\")\n",
        "    \n",
        "    # Normalized boxplot of the data. Mean zero.\n",
        "    x = numericAttributes.values # returns numpy array\n",
        "    scaler = preprocessing.MinMaxScaler(feature_range=(-1, 1))\n",
        "    xScaled = scaler.fit_transform(x) # returns DataFrame\n",
        "    numericAttributes = pd.DataFrame(xScaled, columns = ['C', 'D', 'E', 'F'])\n",
        "    numericAttributes.boxplot()"
      ],
      "execution_count": 32,
      "outputs": []
    },
    {
      "cell_type": "markdown",
      "metadata": {
        "id": "o2k5yLHfsRR_",
        "colab_type": "text"
      },
      "source": [
        "<h3>Mean:</h3>"
      ]
    },
    {
      "cell_type": "code",
      "metadata": {
        "id": "weH6EOVNsiEl",
        "colab_type": "code",
        "colab": {
          "base_uri": "https://localhost:8080/",
          "height": 102
        },
        "outputId": "16b174d6-de63-4b44-8862-ddc3c703f864"
      },
      "source": [
        "getMean(data)"
      ],
      "execution_count": null,
      "outputs": [
        {
          "output_type": "stream",
          "text": [
            "C    5184.663000\n",
            "D      -0.034769\n",
            "E      15.456746\n",
            "F       5.920000\n",
            "dtype: float64\n"
          ],
          "name": "stdout"
        }
      ]
    },
    {
      "cell_type": "markdown",
      "metadata": {
        "id": "HjN6puB3sqHP",
        "colab_type": "text"
      },
      "source": [
        "<h3>Mid-Range:</h3>\n",
        "<p>For columns [C, D, E, F]</p>"
      ]
    },
    {
      "cell_type": "code",
      "metadata": {
        "id": "Puyx5sYbsub5",
        "colab_type": "code",
        "colab": {
          "base_uri": "https://localhost:8080/",
          "height": 34
        },
        "outputId": "8d624835-4619-4504-c665-b1b8237d68db"
      },
      "source": [
        "getMidRange(data)"
      ],
      "execution_count": null,
      "outputs": [
        {
          "output_type": "stream",
          "text": [
            "[2449, 2.044771341461609, 23.713011359338232, 9]\n"
          ],
          "name": "stdout"
        }
      ]
    },
    {
      "cell_type": "markdown",
      "metadata": {
        "id": "uY6vD2JIunsx",
        "colab_type": "text"
      },
      "source": [
        "<h3>Mode & Modality (i.e., bimodal, trimodal, etc.)</h3>\n",
        "<p>My function will take a an attribute and count every instance of a number. Finally it will rank the Mode with the highest count. Results displayed below show the left column as Mode digit and right column as number of instances of that digit.</p>\n",
        "<table>\n",
        "<tr><th>Attribute</th><th>Modality</th></tr>\n",
        "<tr><td>C</td><td>Bimodal</td></tr>\n",
        "<tr><td>D</td><td>No Mode</td></tr>\n",
        "<tr><td>E</td><td>No Mode</td></tr>\n",
        "<tr><td>F</td><td>Unimodal</td></tr>\n",
        "</table>"
      ]
    },
    {
      "cell_type": "code",
      "metadata": {
        "id": "8UitYX-Nu48s",
        "colab_type": "code",
        "colab": {
          "base_uri": "https://localhost:8080/",
          "height": 901
        },
        "outputId": "3ff117ed-0b5a-4c57-fe7e-b8a786a2bfff"
      },
      "source": [
        "getMode(data)"
      ],
      "execution_count": null,
      "outputs": [
        {
          "output_type": "stream",
          "text": [
            "6930    3\n",
            "589     3\n",
            "9904    2\n",
            "4818    2\n",
            "6208    2\n",
            "       ..\n",
            "7492    1\n",
            "3392    1\n",
            "7486    1\n",
            "5437    1\n",
            "4098    1\n",
            "Name: C, Length: 956, dtype: int64 \n",
            "\n",
            "-0.722061    1\n",
            " 0.325066    1\n",
            " 1.393980    1\n",
            "-0.008851    1\n",
            "-1.897452    1\n",
            "            ..\n",
            "-0.121724    1\n",
            " 0.347324    1\n",
            " 1.826622    1\n",
            " 1.302756    1\n",
            "-1.525935    1\n",
            "Name: D, Length: 1000, dtype: int64 \n",
            "\n",
            "17.662165    1\n",
            "5.986575     1\n",
            "0.817117     1\n",
            "22.749373    1\n",
            "14.209222    1\n",
            "            ..\n",
            "24.035987    1\n",
            "17.571367    1\n",
            "27.323796    1\n",
            "22.529632    1\n",
            "17.896387    1\n",
            "Name: E, Length: 1000, dtype: int64 \n",
            "\n",
            "6     110\n",
            "4     100\n",
            "3      98\n",
            "1      94\n",
            "9      93\n",
            "7      89\n",
            "11     85\n",
            "10     85\n",
            "5      85\n",
            "2      81\n",
            "8      80\n",
            "Name: F, dtype: int64 \n",
            "\n"
          ],
          "name": "stdout"
        }
      ]
    },
    {
      "cell_type": "markdown",
      "metadata": {
        "id": "aG9y3wTAzobB",
        "colab_type": "text"
      },
      "source": [
        "<h3>Five-number summary</h3>\n",
        "<p>Calculated using DataFrame.apply() and Numpy functions.</p>"
      ]
    },
    {
      "cell_type": "code",
      "metadata": {
        "id": "_nad2TMb0A5k",
        "colab_type": "code",
        "colab": {
          "base_uri": "https://localhost:8080/",
          "height": 612
        },
        "outputId": "ca8d673d-c547-4564-eb64-f0537de05576"
      },
      "source": [
        "getFiveSummary(data)"
      ],
      "execution_count": null,
      "outputs": [
        {
          "output_type": "stream",
          "text": [
            "Minimum:\n",
            "C    78.000000\n",
            "D    -3.298415\n",
            "E   -16.495096\n",
            "F     1.000000\n",
            "dtype: float64\n",
            "\n",
            "Maximum:\n",
            "C    9996.000000\n",
            "D       3.270827\n",
            "E      54.706505\n",
            "F      11.000000\n",
            "dtype: float64\n",
            "\n",
            "Standard Deviation:\n",
            "C    2852.671639\n",
            "D       1.001087\n",
            "E      10.045413\n",
            "F       3.120513\n",
            "dtype: float64\n",
            "\n",
            "Mean:\n",
            "C    5184.663000\n",
            "D      -0.034769\n",
            "E      15.456746\n",
            "F       5.920000\n",
            "dtype: float64\n",
            "\n",
            "Median:\n",
            "C    5180.000000\n",
            "D      -0.045414\n",
            "E      15.441078\n",
            "F       6.000000\n",
            "dtype: float64\n",
            "\n"
          ],
          "name": "stdout"
        }
      ]
    },
    {
      "cell_type": "markdown",
      "metadata": {
        "id": "Tmhf_I0Y0V9r",
        "colab_type": "text"
      },
      "source": [
        "<h3>Compare to the corresponding functions provided by DataFrame</h3>\n",
        "<p>The DataFrame methods made calculating the measures of Central Tendency much easier.</p>\n",
        "<p>There is also a nice function called DataFrame.describe() which will provide the same summary information.</p>\n",
        "<p>I've also provided a boxplot after the data was normalized, it's a nice native function to DataFrame and looks good.</p>\n",
        "<h3>Analysis of my functions against the built-in ones</h3>\n",
        "<p><code>DataFrame.Mode</code> doesn't have very pretty output, it ranks the values but isn't very clear of each attribute's Modality. The results are pretty similar to the ones I calculated in the previous section.</p>\n",
        "<p>There wasn't a Midrange function built into <code>DataFrame</code></p>\n",
        "<p>All other functions were easy to use and provided information similar to mine.</p>\n",
        "<p>Reviewing the Central Tendency and my boxplot of the attributes, I think the data is well distributed in columns <em>C</em> and <em>F</em>.\n",
        "<p>The attributes <em>D</em> and <em>E</em> have outliers plotted individually, indicating the values are less than <code>1.5 * IQR (Interquartile Range)</code>. The whiskers terminate at the most extreme observations occuring within <code>1.5 * IQR</code> of the quartiles.</p>"
      ]
    },
    {
      "cell_type": "code",
      "metadata": {
        "id": "vo3ubOnQ1PjB",
        "colab_type": "code",
        "colab": {
          "base_uri": "https://localhost:8080/",
          "height": 1000
        },
        "outputId": "8dae4e86-84b7-4464-b01a-aff55d73c208"
      },
      "source": [
        "getCentralTendencySummary(data)"
      ],
      "execution_count": 34,
      "outputs": [
        {
          "output_type": "stream",
          "text": [
            "Mode:\n",
            "           C         D          E    F\n",
            "0     589.0 -3.298415 -16.495096  6.0\n",
            "1    6930.0 -2.944310 -16.414142  NaN\n",
            "2       NaN -2.812992 -12.794588  NaN\n",
            "3       NaN -2.779496 -11.365322  NaN\n",
            "4       NaN -2.774320 -10.614808  NaN\n",
            "..      ...       ...        ...  ...\n",
            "995     NaN  2.613627  40.550804  NaN\n",
            "996     NaN  2.805919  43.249739  NaN\n",
            "997     NaN  3.093815  43.433919  NaN\n",
            "998     NaN  3.228720  44.308779  NaN\n",
            "999     NaN  3.270827  54.706505  NaN\n",
            "\n",
            "[1000 rows x 4 columns] \n",
            "\n",
            "Minimum:\n",
            " C    78.000000\n",
            "D    -3.298415\n",
            "E   -16.495096\n",
            "F     1.000000\n",
            "dtype: float64 \n",
            "\n",
            "Maximum:\n",
            " C    9996.000000\n",
            "D       3.270827\n",
            "E      54.706505\n",
            "F      11.000000\n",
            "dtype: float64 \n",
            "\n",
            "Standard Deviation:\n",
            " C    2854.099045\n",
            "D       1.001588\n",
            "E      10.050440\n",
            "F       3.122074\n",
            "dtype: float64 \n",
            "\n",
            "Mean:\n",
            " C    5184.663000\n",
            "D      -0.034769\n",
            "E      15.456746\n",
            "F       5.920000\n",
            "dtype: float64 \n",
            "\n",
            "Median:\n",
            " C    5180.000000\n",
            "D      -0.045414\n",
            "E      15.441078\n",
            "F       6.000000\n",
            "dtype: float64 \n",
            "\n",
            "DataFrame.describe() output:\n",
            "                  C            D            E            F\n",
            "count  1000.000000  1000.000000  1000.000000  1000.000000\n",
            "mean   5184.663000    -0.034769    15.456746     5.920000\n",
            "std    2854.099045     1.001588    10.050440     3.122074\n",
            "min      78.000000    -3.298415   -16.495096     1.000000\n",
            "25%    2795.500000    -0.718631     8.564863     3.000000\n",
            "50%    5180.000000    -0.045414    15.441078     6.000000\n",
            "75%    7557.250000     0.676918    22.483888     9.000000\n",
            "max    9996.000000     3.270827    54.706505    11.000000 \n",
            "\n"
          ],
          "name": "stdout"
        },
        {
          "output_type": "display_data",
          "data": {
            "image/png": "[encoded data removed]",
            "text/plain": [
              "<Figure size 432x288 with 1 Axes>"
            ]
          },
          "metadata": {
            "tags": [],
            "needs_background": "light"
          }
        }
      ]
    },
    {
      "cell_type": "markdown",
      "metadata": {
        "id": "Neipkgw-zOmI",
        "colab_type": "text"
      },
      "source": [
        "<h2>Similarity & Distance</h2>\n",
        "<h3>Prompt the user for a tuple, p = (a1, b2, 515, -0.876, 6.4253, 45)</h3>\n",
        "<h4>Using the set of columns C, D, E, F: Print row in DataFrame that is LEAST dissimilar to 'p'</h4>\n",
        "<ol>\n",
        "  <li>Euclidian distance</li>\n",
        "  <li>Manhattan distance</li>\n",
        "  <li>Supremum distance</li>\n",
        "  <li>Cosine similarity</li>\n",
        "</ol>\n",
        "\n",
        "<h3>Normalize the data points by making the norm of each data point (under columns C, D, E, F) equal to 1. </h3>\n",
        "<h3>Scale the values in columns C, D, E, F; so that for each row (C, D, E, F) we have: sqrt(C^2 + D^2 + E^2 + F^2) = 1.</h3>\n",
        "<h3>Print the row in the DataFrame that has the shortest Euclidiean distances from the normalized point 'p'.</h3>"
      ]
    },
    {
      "cell_type": "code",
      "metadata": {
        "id": "DtL6y1r3zbPk",
        "colab_type": "code",
        "colab": {}
      },
      "source": [
        "# Determine the Distance of each row compared to the user input 'p'\n",
        "# Prints out the least distant row\n",
        "def getDistances(data):\n",
        "    pValues = input(\"input 4 values seperated by commas (,):\").split(',')\n",
        "    pValues = [float(i) for i in pValues] # convert String to Float d-type\n",
        "    print() # for nice formatting :P\n",
        "    \n",
        "    data = data[data.columns[3:]].T # get columns and transpose\n",
        "    \n",
        "    instances = [(euclideanDistance, \"Euclidean\"), \n",
        "                 (manhattanDistance, \"Manhattan\"), \n",
        "                 (supremumDistance, \"Supremum\"), \n",
        "                 (cosineDistance, \"Cosine\")]\n",
        "    \n",
        "    # Raw Distances\n",
        "    for instance in instances:\n",
        "        distances = data.apply(\\\n",
        "            instance[0], result_type = 'reduce', args = (pValues))\n",
        "        leastDistantIndex = np.argmin(distances) # returns index of row\n",
        "        print(\"Least\", instance[1], \"Distant columns at row \" \\\n",
        "              , str(leastDistantIndex))\n",
        "        print(data[leastDistantIndex], '\\n')\n",
        "    \n",
        "    # Normalize data and p-values\n",
        "    data = data.T\n",
        "    x = data.values # creates numpy array\n",
        "    \n",
        "    xScaled = preprocessing.normalize(x, norm= 'l1')\n",
        "    pScaled = preprocessing.normalize([pValues], norm= 'l1')\n",
        "    \n",
        "    data = pd.DataFrame(xScaled, columns = ['C', 'D', 'E', 'F'])\n",
        "    data = data.T\n",
        "    \n",
        "    pScaled = pScaled.flatten()\n",
        "    pScaled = pScaled.tolist()\n",
        "    \n",
        "    # Normalized Distances\n",
        "    print('\\n\\n' + ('*' * 16) + ' Normalized ' + ('*' * 8))\n",
        "    print('input scaled: \\n' + str(pScaled) + '\\n')\n",
        "    for instance in instances:\n",
        "        distances = data.apply(\\\n",
        "            instance[0], result_type = 'reduce', args = (pScaled))\n",
        "        leastDistantIndex = np.argmin(distances)\n",
        "        print(\"Normalized Least\", instance[1], \"Distant columns at row \" \\\n",
        "              , str(leastDistantIndex))\n",
        "        print(data[leastDistantIndex], '\\n')\n",
        "\n",
        "    \n",
        "def euclideanDistance(dataValues, c, d, e, f):\n",
        "    return distance.euclidean(dataValues, [c, d, e, f])\n",
        "\n",
        "# Also known as Cityblock distance\n",
        "def manhattanDistance(dataValues, c, d, e, f):\n",
        "    return distance.cityblock(dataValues, [c, d, e, f])\n",
        "\n",
        "# Also known as Chebyshev distance\n",
        "def supremumDistance(dataValues, c, d, e, f):\n",
        "    return distance.chebyshev(dataValues, [c, d, e, f])\n",
        "    \n",
        "def cosineDistance(dataValues, c, d, e, f):\n",
        "    return distance.cosine(dataValues, [c, d, e, f])"
      ],
      "execution_count": 35,
      "outputs": []
    },
    {
      "cell_type": "markdown",
      "metadata": {
        "id": "ZFhYnpAw8EaQ",
        "colab_type": "text"
      },
      "source": [
        "<h3>Calculating distances with and without Normalization</h3>\n",
        "<p>My function <code>getDistances</code> makes calls to Distance functions after transforming the data</p>"
      ]
    },
    {
      "cell_type": "code",
      "metadata": {
        "id": "QTReJSPX8SJN",
        "colab_type": "code",
        "colab": {
          "base_uri": "https://localhost:8080/",
          "height": 1000
        },
        "outputId": "1984daf5-7d21-4f08-f7d5-f1ea4cc36450"
      },
      "source": [
        "getDistances(data)"
      ],
      "execution_count": 36,
      "outputs": [
        {
          "output_type": "stream",
          "text": [
            "input 4 values seperated by commas (,):9, 12, 0, 8\n",
            "\n",
            "Least Euclidean Distant columns at row  687\n",
            "C    6573.000000\n",
            "D      -1.375692\n",
            "E       7.752688\n",
            "F       1.000000\n",
            "Name: 687, dtype: float64 \n",
            "\n",
            "Least Manhattan Distant columns at row  687\n",
            "C    6573.000000\n",
            "D      -1.375692\n",
            "E       7.752688\n",
            "F       1.000000\n",
            "Name: 687, dtype: float64 \n",
            "\n",
            "Least Supremum Distant columns at row  687\n",
            "C    6573.000000\n",
            "D      -1.375692\n",
            "E       7.752688\n",
            "F       1.000000\n",
            "Name: 687, dtype: float64 \n",
            "\n",
            "Least Cosine Distant columns at row  673\n",
            "C    7140.000000\n",
            "D      -1.707167\n",
            "E      13.006209\n",
            "F      11.000000\n",
            "Name: 673, dtype: float64 \n",
            "\n",
            "\n",
            "\n",
            "**************** Normalized ********\n",
            "input scaled: \n",
            "[0.3103448275862069, 0.41379310344827586, 0.0, 0.27586206896551724]\n",
            "\n",
            "Normalized Least Euclidean Distant columns at row  687\n",
            "C    0.649834\n",
            "D    0.003163\n",
            "E    0.280353\n",
            "F    0.066650\n",
            "Name: 687, dtype: float64 \n",
            "\n",
            "Normalized Least Manhattan Distant columns at row  687\n",
            "C    0.649834\n",
            "D    0.003163\n",
            "E    0.280353\n",
            "F    0.066650\n",
            "Name: 687, dtype: float64 \n",
            "\n",
            "Normalized Least Supremum Distant columns at row  687\n",
            "C    0.649834\n",
            "D    0.003163\n",
            "E    0.280353\n",
            "F    0.066650\n",
            "Name: 687, dtype: float64 \n",
            "\n",
            "Normalized Least Cosine Distant columns at row  673\n",
            "C    0.768271\n",
            "D    0.010464\n",
            "E    0.163823\n",
            "F    0.057441\n",
            "Name: 673, dtype: float64 \n",
            "\n"
          ],
          "name": "stdout"
        }
      ]
    },
    {
      "cell_type": "markdown",
      "metadata": {
        "id": "N3oJzpES9mxU",
        "colab_type": "text"
      },
      "source": [
        "<h3>Write functions to normalize the data in a given column using the\n",
        "following methods. Apply these functions on column C.</h3>"
      ]
    },
    {
      "cell_type": "code",
      "metadata": {
        "id": "l6NNWQ8o9_nD",
        "colab_type": "code",
        "colab": {}
      },
      "source": [
        "# Scales the DataFrame into Real Numbers between 0 and 1.\n",
        "# Input: DataFrame rows consisting of Numeric Attributes. \n",
        "# Output: Numeric feature, all instances normalized within [-1, 1] range.\n",
        "def normalizeMinMax(data):\n",
        "    data = data[data.columns[3:]]\n",
        "    x = data.values # returns numpy array\n",
        "    scaler = preprocessing.MinMaxScaler(feature_range=(-1, 1))\n",
        "    xScaled = scaler.fit_transform(x) # returns DataFrame\n",
        "    data = pd.DataFrame(xScaled)\n",
        "    print(data[0])\n",
        "\n",
        "\n",
        "# Alternative is sklearn.preprocessing.scale()\n",
        "def normalizeZScore(data):\n",
        "    data = data[data.columns[3:]]\n",
        "    powerTransformer = preprocessing.PowerTransformer(method = 'yeo-johnson')\n",
        "    data = powerTransformer.fit_transform(data.values)\n",
        "    data = pd.DataFrame(data)\n",
        "    print(data[0])\n",
        "    \n",
        "    \n",
        "def normalizeDecimalScale(data):\n",
        "    data = data[data.columns[3:]]\n",
        "    scaler = preprocessing.StandardScaler()\n",
        "    data = scaler.fit_transform(data.values)\n",
        "    data = pd.DataFrame(data)\n",
        "    print(data[0])"
      ],
      "execution_count": 37,
      "outputs": []
    },
    {
      "cell_type": "markdown",
      "metadata": {
        "id": "sMgVinZs-KTb",
        "colab_type": "text"
      },
      "source": [
        "<h3>Min-Max:</h3>"
      ]
    },
    {
      "cell_type": "code",
      "metadata": {
        "id": "yqbFyUpB-Yjn",
        "colab_type": "code",
        "colab": {
          "base_uri": "https://localhost:8080/",
          "height": 221
        },
        "outputId": "1639bf29-b147-4f79-f8ee-27f1f64f7308"
      },
      "source": [
        "normalizeMinMax(data)"
      ],
      "execution_count": 38,
      "outputs": [
        {
          "output_type": "stream",
          "text": [
            "0     -0.834241\n",
            "1     -0.862876\n",
            "2      0.216374\n",
            "3     -0.150232\n",
            "4     -0.529946\n",
            "         ...   \n",
            "995    0.189353\n",
            "996    0.975600\n",
            "997   -0.766485\n",
            "998   -0.293809\n",
            "999    0.516435\n",
            "Name: 0, Length: 1000, dtype: float64\n"
          ],
          "name": "stdout"
        }
      ]
    },
    {
      "cell_type": "markdown",
      "metadata": {
        "id": "ZnCNpCBq-Onk",
        "colab_type": "text"
      },
      "source": [
        "<h3>Z-Score:</h3>"
      ]
    },
    {
      "cell_type": "code",
      "metadata": {
        "id": "qqgOJbi2-bvs",
        "colab_type": "code",
        "colab": {
          "base_uri": "https://localhost:8080/",
          "height": 221
        },
        "outputId": "0994d9c8-1015-4522-b1d2-e6b110bf7c7a"
      },
      "source": [
        "normalizeZScore(data)"
      ],
      "execution_count": 39,
      "outputs": [
        {
          "output_type": "stream",
          "text": [
            "0     -1.595176\n",
            "1     -1.668067\n",
            "2      0.379147\n",
            "3     -0.229172\n",
            "4     -0.929130\n",
            "         ...   \n",
            "995    0.335919\n",
            "996    1.519984\n",
            "997   -1.432470\n",
            "998   -0.483171\n",
            "999    0.845514\n",
            "Name: 0, Length: 1000, dtype: float64\n"
          ],
          "name": "stdout"
        }
      ]
    },
    {
      "cell_type": "markdown",
      "metadata": {
        "id": "lwc3zWiP-UBn",
        "colab_type": "text"
      },
      "source": [
        "<h3>Decimal Scale:</h3>"
      ]
    },
    {
      "cell_type": "code",
      "metadata": {
        "id": "uCMNJw4O-fTb",
        "colab_type": "code",
        "colab": {
          "base_uri": "https://localhost:8080/",
          "height": 221
        },
        "outputId": "e20559b7-3937-4358-b89c-e55ca23c0585"
      },
      "source": [
        "normalizeDecimalScale(data)"
      ],
      "execution_count": 40,
      "outputs": [
        {
          "output_type": "stream",
          "text": [
            "0     -1.501983\n",
            "1     -1.551760\n",
            "2      0.324376\n",
            "3     -0.312922\n",
            "4     -0.973005\n",
            "         ...   \n",
            "995    0.277402\n",
            "996    1.644191\n",
            "997   -1.384198\n",
            "998   -0.562512\n",
            "999    0.845992\n",
            "Name: 0, Length: 1000, dtype: float64\n"
          ],
          "name": "stdout"
        }
      ]
    },
    {
      "cell_type": "markdown",
      "metadata": {
        "id": "4QiIV4x08yde",
        "colab_type": "text"
      },
      "source": [
        "<h3></h3>"
      ]
    }
  ]
}